{
  "nbformat": 4,
  "nbformat_minor": 0,
  "metadata": {
    "colab": {
      "provenance": []
    },
    "kernelspec": {
      "name": "python3",
      "display_name": "Python 3"
    }
  },
  "cells": [
    {
      "cell_type": "markdown",
      "metadata": {
        "id": "c9XvBGFMguJ1"
      },
      "source": [
        "# Ridge Regression\n",
        "- Do one-hot encoding of categorical features\n",
        "- Use scikit-learn to fit Ridge Regression models\n",
        "\n"
      ]
    },
    {
      "cell_type": "code",
      "execution_count": null,
      "outputs": [],
      "source": [
        "!pip install category_encoders"
      ],
      "metadata": {
        "id": "CRDZr6bYTbS4"
      }
    },
    {
      "cell_type": "code",
      "execution_count": null,
      "outputs": [],
      "source": [
        "# Model Building\n",
        "\n",
        "from sklearn.linear_model import LinearRegression, Ridge\n",
        "from sklearn.metrics import mean_absolute_error, mean_squared_error\n",
        "import numpy as np\n",
        "import matplotlib.pyplot as plt\n",
        "import pandas as pd\n",
        "\n",
        "# For encoding categorical data\n",
        "from category_encoders import OneHotEncoder"
      ],
      "metadata": {
        "id": "p6BqP5l9TbS5"
      }
    },
    {
      "cell_type": "markdown",
      "metadata": {
        "id": "0kaV7oNahJLj"
      },
      "source": [
        "# I. Wrangle Data"
      ]
    },
    {
      "cell_type": "markdown",
      "metadata": {
        "id": "iOecYDRyx5m-"
      },
      "source": [
        "Create **wrangle function** for **reproducibility**."
      ]
    },
    {
      "cell_type": "code",
      "metadata": {
        "id": "m9Dm3h3Ux5AI"
      },
      "source": [
        "def wrangle(filepath):\n",
        "  df = pd.read_csv(filepath)\n",
        "\n",
        "  # Remove outlier observations\n",
        "  df = df[(df['price'] >= np.percentile(df['price'], 0.5)) &\n",
        "          (df['price'] <= np.percentile(df['price'], 99.5)) &\n",
        "          (df['latitude'] >= np.percentile(df['latitude'], 0.05)) &\n",
        "          (df['latitude'] < np.percentile(df['latitude'], 99.95)) &\n",
        "          (df['longitude'] >= np.percentile(df['longitude'], 0.05)) &\n",
        "          (df['longitude'] <= np.percentile(df['longitude'], 99.95))]\n",
        "\n",
        "  # Drop high-cardinality categorical variables\n",
        "\n",
        "\n",
        "  return df\n",
        "\n",
        "df = wrangle(\"https://raw.githubusercontent.com/bloominstituteoftechnology/DS-Unit-2-Linear-Models/master/data/apartments/renthop-nyc.csv\")"
      ],
      "execution_count": null,
      "outputs": []
    },
    {
      "cell_type": "code",
      "metadata": {
        "id": "n084wE0pJ41o"
      },
      "source": [
        "# threshold = 10\n",
        "# cols_to_drop = []\n",
        "# for col in df:\n",
        "#   if df[col].dtype == 'object':\n",
        "#     if df[col].nunique() > threshold:\n",
        "#       cols_to_drop.append(col)\n",
        "\n",
        "# df.drop(columns=cols_to_drop, inplace=True)"
      ],
      "execution_count": null,
      "outputs": []
    },
    {
      "cell_type": "code",
      "source": [
        "cutoff = 90\n",
        "drop_cols = [col for col in df.select_dtypes('object').columns\n",
        "            if df[col].nunique() > cutoff]\n",
        "df.drop(columns=drop_cols, inplace=True)"
      ],
      "metadata": {
        "id": "ARiIh6vd9u1C"
      },
      "execution_count": null,
      "outputs": []
    },
    {
      "cell_type": "markdown",
      "metadata": {
        "id": "Fr-x5LJo0pRc"
      },
      "source": [
        "# II. Split Data\n",
        "\n",
        "Split **target vector** from **feature matrix**."
      ]
    },
    {
      "cell_type": "code",
      "metadata": {
        "id": "r2TXo5xLo662"
      },
      "source": [
        "target =\n",
        "y = df[target]\n",
        "X = df.drop(columns=target)"
      ],
      "execution_count": null,
      "outputs": []
    },
    {
      "cell_type": "markdown",
      "metadata": {
        "id": "ZMoRDMuT7A7q"
      },
      "source": [
        "Split data into **training** and **test** sets.\n",
        "\n",
        "(Use data from April & May 2016 to train. Use data from June 2016 to test.)"
      ]
    },
    {
      "cell_type": "code",
      "metadata": {
        "id": "7w92aZ7co9CA"
      },
      "source": [
        "X.index.max(), X.index.min()"
      ],
      "execution_count": null,
      "outputs": []
    },
    {
      "cell_type": "code",
      "source": [
        "# Several masks to choose from\n",
        "\n",
        "# mask =\n",
        "# mask =\n"
      ],
      "metadata": {
        "id": "_3V1L5M4Sn4f"
      },
      "execution_count": null,
      "outputs": []
    },
    {
      "cell_type": "code",
      "metadata": {
        "id": "XB5dXBYIJWYT"
      },
      "source": [
        "# or apply the mask based on cut-off given below\n",
        "cutoff =\n",
        "\n",
        "mask =\n",
        "\n",
        "X_train, y_train = X.loc[mask], y.loc[mask]\n",
        "X_test, y_test = X.loc[~mask], y.loc[~mask]"
      ],
      "execution_count": null,
      "outputs": []
    },
    {
      "cell_type": "code",
      "source": [
        "X_train.shape, y_train.shape"
      ],
      "metadata": {
        "id": "LAKmgkBHTXbY"
      },
      "execution_count": null,
      "outputs": []
    },
    {
      "cell_type": "code",
      "source": [
        "X_test.shape, y_test.shape"
      ],
      "metadata": {
        "id": "3YnGxnZQTY8O"
      },
      "execution_count": null,
      "outputs": []
    },
    {
      "cell_type": "markdown",
      "metadata": {
        "id": "-x9lFKmupRWk"
      },
      "source": [
        "# III. Establish Baseline"
      ]
    },
    {
      "cell_type": "code",
      "metadata": {
        "id": "-XNZHgf-7XQc"
      },
      "source": [
        "y_pred = [y_train.mean()] * len(y_train)\n",
        "print('Mean price:', y_train.mean())\n",
        "print('Baseline MAE:', mean_absolute_error(y_train, y_pred))"
      ],
      "execution_count": null,
      "outputs": []
    },
    {
      "cell_type": "markdown",
      "metadata": {
        "id": "Xea7aFidqPoV"
      },
      "source": [
        "# IV. Build Models"
      ]
    },
    {
      "cell_type": "code",
      "metadata": {
        "id": "IKwppXfWIH_K"
      },
      "source": [
        "# Step 1: Import your transformer class\n",
        "# We did above ☝️\n",
        "\n",
        "# Step 2: Insantiate your transformer\n",
        "\n",
        "# Step 3: Fit your transformer\n",
        "\n",
        "# Step 4: Transform\n"
      ],
      "execution_count": null,
      "outputs": []
    },
    {
      "cell_type": "markdown",
      "metadata": {
        "id": "35SyuZhQQqNu"
      },
      "source": [
        "**Model 1:** Regular ol' linear regression"
      ]
    },
    {
      "cell_type": "code",
      "metadata": {
        "id": "LI2XJzMVH_bP"
      },
      "source": [
        "model_lr = LinearRegression()\n",
        "model_lr.fit(X_train, y_train)"
      ],
      "execution_count": null,
      "outputs": []
    },
    {
      "cell_type": "code",
      "source": [],
      "metadata": {
        "id": "S9e-RvmUbbdo"
      },
      "execution_count": null,
      "outputs": []
    },
    {
      "cell_type": "code",
      "metadata": {
        "id": "pWNBUNlxJC8a"
      },
      "source": [],
      "execution_count": null,
      "outputs": []
    },
    {
      "cell_type": "markdown",
      "metadata": {
        "id": "gMjtQqeVQufl"
      },
      "source": [
        "**Model 2:** Ridge regression (regularization)"
      ]
    },
    {
      "cell_type": "code",
      "metadata": {
        "id": "ZRs-fAaeQt1e"
      },
      "source": [],
      "execution_count": null,
      "outputs": []
    },
    {
      "cell_type": "markdown",
      "metadata": {
        "id": "rHhIH6VE0iRH"
      },
      "source": [
        "# V. Check Metrics"
      ]
    },
    {
      "cell_type": "code",
      "metadata": {
        "id": "hDj8LEUVOdGs"
      },
      "source": [
        "print('LR training MAE:', mean_absolute_error(y_train, model_lr.predict(XT_train)))\n",
        "print('LR test MAE:', mean_absolute_error(y_test, model_lr.predict(XT_test)))"
      ],
      "execution_count": null,
      "outputs": []
    },
    {
      "cell_type": "code",
      "metadata": {
        "id": "BXrqHj_lHPum"
      },
      "source": [
        "print('Ridge training MAE:', mean_absolute_error(y_train, model_r.predict(XT_train)))\n",
        "print('Ridge test MAE:', mean_absolute_error(y_test, model_r.predict(XT_test)))"
      ],
      "execution_count": null,
      "outputs": []
    },
    {
      "cell_type": "markdown",
      "metadata": {
        "id": "uI9K2OXDWThQ"
      },
      "source": [
        "# Communicate results"
      ]
    },
    {
      "cell_type": "code",
      "metadata": {
        "id": "84xIPGtUBbsA"
      },
      "source": [
        "coefficients =\n",
        "features =\n",
        "\n",
        "feat_imp = pd.Series(coefficients, index=features).sort_values(key=abs)\n",
        "feat_imp.tail(10).plot(kind='barh')\n",
        "\n",
        "plt.xlabel('Coefficient [$]')\n",
        "plt.ylabel('Feature')\n",
        "plt.title('Coefficients for Linear Regression');"
      ],
      "execution_count": null,
      "outputs": []
    },
    {
      "cell_type": "code",
      "metadata": {
        "id": "RlAyipCNav1H"
      },
      "source": [
        "coefficients =\n",
        "features =\n",
        "\n",
        "feat_imp = pd.Series(coefficients, index=features).sort_values(key=abs)\n",
        "feat_imp.tail(10).plot(kind='barh')\n",
        "\n",
        "plt.xlabel('Coefficient [$]')\n",
        "plt.ylabel('Feature')\n",
        "plt.title('Coefficients for Ridge Regression');\n"
      ],
      "execution_count": null,
      "outputs": []
    },
    {
      "cell_type": "code",
      "metadata": {
        "id": "jQIrt_TK8yMg"
      },
      "source": [
        "# import seaborn as sns\n",
        "# sns.set(rc={'figure.figsize':(15,15)})\n",
        "# sns.scatterplot('longitude', 'latitude', hue='price', data=df);\n"
      ],
      "execution_count": null,
      "outputs": []
    }
  ]
}