{
  "cells": [
    {
      "cell_type": "code",
      "execution_count": 1,
      "metadata": {
        "id": "SJyZ0VbWkuTl"
      },
      "outputs": [],
      "source": [
        "import pandas as pd\n",
        "import matplotlib.pyplot as plt\n",
        "import numpy as np\n",
        "%matplotlib inline"
      ]
    },
    {
      "cell_type": "code",
      "execution_count": 2,
      "metadata": {
        "id": "yG32mzNEkuTm"
      },
      "outputs": [],
      "source": [
        "df=pd.read_csv('height-weight.csv')"
      ]
    },
    {
      "cell_type": "code",
      "execution_count": 3,
      "metadata": {
        "id": "RHg8b9xFkuTm",
        "outputId": "59e54403-6975-443b-d9b5-9eb90f4c82c2",
        "colab": {
          "base_uri": "https://localhost:8080/",
          "height": 206
        }
      },
      "outputs": [
        {
          "output_type": "execute_result",
          "data": {
            "text/plain": [
              "   Weight  Height\n",
              "0      45     120\n",
              "1      58     135\n",
              "2      48     123\n",
              "3      60     145\n",
              "4      70     160"
            ],
            "text/html": [
              "\n",
              "  <div id=\"df-323881a6-5c91-47ea-9fab-bd26152c6397\" class=\"colab-df-container\">\n",
              "    <div>\n",
              "<style scoped>\n",
              "    .dataframe tbody tr th:only-of-type {\n",
              "        vertical-align: middle;\n",
              "    }\n",
              "\n",
              "    .dataframe tbody tr th {\n",
              "        vertical-align: top;\n",
              "    }\n",
              "\n",
              "    .dataframe thead th {\n",
              "        text-align: right;\n",
              "    }\n",
              "</style>\n",
              "<table border=\"1\" class=\"dataframe\">\n",
              "  <thead>\n",
              "    <tr style=\"text-align: right;\">\n",
              "      <th></th>\n",
              "      <th>Weight</th>\n",
              "      <th>Height</th>\n",
              "    </tr>\n",
              "  </thead>\n",
              "  <tbody>\n",
              "    <tr>\n",
              "      <th>0</th>\n",
              "      <td>45</td>\n",
              "      <td>120</td>\n",
              "    </tr>\n",
              "    <tr>\n",
              "      <th>1</th>\n",
              "      <td>58</td>\n",
              "      <td>135</td>\n",
              "    </tr>\n",
              "    <tr>\n",
              "      <th>2</th>\n",
              "      <td>48</td>\n",
              "      <td>123</td>\n",
              "    </tr>\n",
              "    <tr>\n",
              "      <th>3</th>\n",
              "      <td>60</td>\n",
              "      <td>145</td>\n",
              "    </tr>\n",
              "    <tr>\n",
              "      <th>4</th>\n",
              "      <td>70</td>\n",
              "      <td>160</td>\n",
              "    </tr>\n",
              "  </tbody>\n",
              "</table>\n",
              "</div>\n",
              "    <div class=\"colab-df-buttons\">\n",
              "\n",
              "  <div class=\"colab-df-container\">\n",
              "    <button class=\"colab-df-convert\" onclick=\"convertToInteractive('df-323881a6-5c91-47ea-9fab-bd26152c6397')\"\n",
              "            title=\"Convert this dataframe to an interactive table.\"\n",
              "            style=\"display:none;\">\n",
              "\n",
              "  <svg xmlns=\"http://www.w3.org/2000/svg\" height=\"24px\" viewBox=\"0 -960 960 960\">\n",
              "    <path d=\"M120-120v-720h720v720H120Zm60-500h600v-160H180v160Zm220 220h160v-160H400v160Zm0 220h160v-160H400v160ZM180-400h160v-160H180v160Zm440 0h160v-160H620v160ZM180-180h160v-160H180v160Zm440 0h160v-160H620v160Z\"/>\n",
              "  </svg>\n",
              "    </button>\n",
              "\n",
              "  <style>\n",
              "    .colab-df-container {\n",
              "      display:flex;\n",
              "      gap: 12px;\n",
              "    }\n",
              "\n",
              "    .colab-df-convert {\n",
              "      background-color: #E8F0FE;\n",
              "      border: none;\n",
              "      border-radius: 50%;\n",
              "      cursor: pointer;\n",
              "      display: none;\n",
              "      fill: #1967D2;\n",
              "      height: 32px;\n",
              "      padding: 0 0 0 0;\n",
              "      width: 32px;\n",
              "    }\n",
              "\n",
              "    .colab-df-convert:hover {\n",
              "      background-color: #E2EBFA;\n",
              "      box-shadow: 0px 1px 2px rgba(60, 64, 67, 0.3), 0px 1px 3px 1px rgba(60, 64, 67, 0.15);\n",
              "      fill: #174EA6;\n",
              "    }\n",
              "\n",
              "    .colab-df-buttons div {\n",
              "      margin-bottom: 4px;\n",
              "    }\n",
              "\n",
              "    [theme=dark] .colab-df-convert {\n",
              "      background-color: #3B4455;\n",
              "      fill: #D2E3FC;\n",
              "    }\n",
              "\n",
              "    [theme=dark] .colab-df-convert:hover {\n",
              "      background-color: #434B5C;\n",
              "      box-shadow: 0px 1px 3px 1px rgba(0, 0, 0, 0.15);\n",
              "      filter: drop-shadow(0px 1px 2px rgba(0, 0, 0, 0.3));\n",
              "      fill: #FFFFFF;\n",
              "    }\n",
              "  </style>\n",
              "\n",
              "    <script>\n",
              "      const buttonEl =\n",
              "        document.querySelector('#df-323881a6-5c91-47ea-9fab-bd26152c6397 button.colab-df-convert');\n",
              "      buttonEl.style.display =\n",
              "        google.colab.kernel.accessAllowed ? 'block' : 'none';\n",
              "\n",
              "      async function convertToInteractive(key) {\n",
              "        const element = document.querySelector('#df-323881a6-5c91-47ea-9fab-bd26152c6397');\n",
              "        const dataTable =\n",
              "          await google.colab.kernel.invokeFunction('convertToInteractive',\n",
              "                                                    [key], {});\n",
              "        if (!dataTable) return;\n",
              "\n",
              "        const docLinkHtml = 'Like what you see? Visit the ' +\n",
              "          '<a target=\"_blank\" href=https://colab.research.google.com/notebooks/data_table.ipynb>data table notebook</a>'\n",
              "          + ' to learn more about interactive tables.';\n",
              "        element.innerHTML = '';\n",
              "        dataTable['output_type'] = 'display_data';\n",
              "        await google.colab.output.renderOutput(dataTable, element);\n",
              "        const docLink = document.createElement('div');\n",
              "        docLink.innerHTML = docLinkHtml;\n",
              "        element.appendChild(docLink);\n",
              "      }\n",
              "    </script>\n",
              "  </div>\n",
              "\n",
              "\n",
              "<div id=\"df-ee61f4f6-5ce7-4808-a30c-d3e49c56f528\">\n",
              "  <button class=\"colab-df-quickchart\" onclick=\"quickchart('df-ee61f4f6-5ce7-4808-a30c-d3e49c56f528')\"\n",
              "            title=\"Suggest charts\"\n",
              "            style=\"display:none;\">\n",
              "\n",
              "<svg xmlns=\"http://www.w3.org/2000/svg\" height=\"24px\"viewBox=\"0 0 24 24\"\n",
              "     width=\"24px\">\n",
              "    <g>\n",
              "        <path d=\"M19 3H5c-1.1 0-2 .9-2 2v14c0 1.1.9 2 2 2h14c1.1 0 2-.9 2-2V5c0-1.1-.9-2-2-2zM9 17H7v-7h2v7zm4 0h-2V7h2v10zm4 0h-2v-4h2v4z\"/>\n",
              "    </g>\n",
              "</svg>\n",
              "  </button>\n",
              "\n",
              "<style>\n",
              "  .colab-df-quickchart {\n",
              "      --bg-color: #E8F0FE;\n",
              "      --fill-color: #1967D2;\n",
              "      --hover-bg-color: #E2EBFA;\n",
              "      --hover-fill-color: #174EA6;\n",
              "      --disabled-fill-color: #AAA;\n",
              "      --disabled-bg-color: #DDD;\n",
              "  }\n",
              "\n",
              "  [theme=dark] .colab-df-quickchart {\n",
              "      --bg-color: #3B4455;\n",
              "      --fill-color: #D2E3FC;\n",
              "      --hover-bg-color: #434B5C;\n",
              "      --hover-fill-color: #FFFFFF;\n",
              "      --disabled-bg-color: #3B4455;\n",
              "      --disabled-fill-color: #666;\n",
              "  }\n",
              "\n",
              "  .colab-df-quickchart {\n",
              "    background-color: var(--bg-color);\n",
              "    border: none;\n",
              "    border-radius: 50%;\n",
              "    cursor: pointer;\n",
              "    display: none;\n",
              "    fill: var(--fill-color);\n",
              "    height: 32px;\n",
              "    padding: 0;\n",
              "    width: 32px;\n",
              "  }\n",
              "\n",
              "  .colab-df-quickchart:hover {\n",
              "    background-color: var(--hover-bg-color);\n",
              "    box-shadow: 0 1px 2px rgba(60, 64, 67, 0.3), 0 1px 3px 1px rgba(60, 64, 67, 0.15);\n",
              "    fill: var(--button-hover-fill-color);\n",
              "  }\n",
              "\n",
              "  .colab-df-quickchart-complete:disabled,\n",
              "  .colab-df-quickchart-complete:disabled:hover {\n",
              "    background-color: var(--disabled-bg-color);\n",
              "    fill: var(--disabled-fill-color);\n",
              "    box-shadow: none;\n",
              "  }\n",
              "\n",
              "  .colab-df-spinner {\n",
              "    border: 2px solid var(--fill-color);\n",
              "    border-color: transparent;\n",
              "    border-bottom-color: var(--fill-color);\n",
              "    animation:\n",
              "      spin 1s steps(1) infinite;\n",
              "  }\n",
              "\n",
              "  @keyframes spin {\n",
              "    0% {\n",
              "      border-color: transparent;\n",
              "      border-bottom-color: var(--fill-color);\n",
              "      border-left-color: var(--fill-color);\n",
              "    }\n",
              "    20% {\n",
              "      border-color: transparent;\n",
              "      border-left-color: var(--fill-color);\n",
              "      border-top-color: var(--fill-color);\n",
              "    }\n",
              "    30% {\n",
              "      border-color: transparent;\n",
              "      border-left-color: var(--fill-color);\n",
              "      border-top-color: var(--fill-color);\n",
              "      border-right-color: var(--fill-color);\n",
              "    }\n",
              "    40% {\n",
              "      border-color: transparent;\n",
              "      border-right-color: var(--fill-color);\n",
              "      border-top-color: var(--fill-color);\n",
              "    }\n",
              "    60% {\n",
              "      border-color: transparent;\n",
              "      border-right-color: var(--fill-color);\n",
              "    }\n",
              "    80% {\n",
              "      border-color: transparent;\n",
              "      border-right-color: var(--fill-color);\n",
              "      border-bottom-color: var(--fill-color);\n",
              "    }\n",
              "    90% {\n",
              "      border-color: transparent;\n",
              "      border-bottom-color: var(--fill-color);\n",
              "    }\n",
              "  }\n",
              "</style>\n",
              "\n",
              "  <script>\n",
              "    async function quickchart(key) {\n",
              "      const quickchartButtonEl =\n",
              "        document.querySelector('#' + key + ' button');\n",
              "      quickchartButtonEl.disabled = true;  // To prevent multiple clicks.\n",
              "      quickchartButtonEl.classList.add('colab-df-spinner');\n",
              "      try {\n",
              "        const charts = await google.colab.kernel.invokeFunction(\n",
              "            'suggestCharts', [key], {});\n",
              "      } catch (error) {\n",
              "        console.error('Error during call to suggestCharts:', error);\n",
              "      }\n",
              "      quickchartButtonEl.classList.remove('colab-df-spinner');\n",
              "      quickchartButtonEl.classList.add('colab-df-quickchart-complete');\n",
              "    }\n",
              "    (() => {\n",
              "      let quickchartButtonEl =\n",
              "        document.querySelector('#df-ee61f4f6-5ce7-4808-a30c-d3e49c56f528 button');\n",
              "      quickchartButtonEl.style.display =\n",
              "        google.colab.kernel.accessAllowed ? 'block' : 'none';\n",
              "    })();\n",
              "  </script>\n",
              "</div>\n",
              "    </div>\n",
              "  </div>\n"
            ],
            "application/vnd.google.colaboratory.intrinsic+json": {
              "type": "dataframe",
              "variable_name": "df",
              "summary": "{\n  \"name\": \"df\",\n  \"rows\": 23,\n  \"fields\": [\n    {\n      \"column\": \"Weight\",\n      \"properties\": {\n        \"dtype\": \"number\",\n        \"std\": 17,\n        \"min\": 45,\n        \"max\": 105,\n        \"num_unique_values\": 19,\n        \"samples\": [\n          45,\n          78,\n          100\n        ],\n        \"semantic_type\": \"\",\n        \"description\": \"\"\n      }\n    },\n    {\n      \"column\": \"Height\",\n      \"properties\": {\n        \"dtype\": \"number\",\n        \"std\": 19,\n        \"min\": 120,\n        \"max\": 183,\n        \"num_unique_values\": 18,\n        \"samples\": [\n          120,\n          135,\n          182\n        ],\n        \"semantic_type\": \"\",\n        \"description\": \"\"\n      }\n    }\n  ]\n}"
            }
          },
          "metadata": {},
          "execution_count": 3
        }
      ],
      "source": [
        "df.head()"
      ]
    },
    {
      "cell_type": "code",
      "execution_count": 4,
      "metadata": {
        "id": "JIneHAYzkuTn",
        "outputId": "d142d013-3b91-4141-d6cd-8d07a4b113a2",
        "colab": {
          "base_uri": "https://localhost:8080/",
          "height": 467
        }
      },
      "outputs": [
        {
          "output_type": "execute_result",
          "data": {
            "text/plain": [
              "Text(0, 0.5, 'Height')"
            ]
          },
          "metadata": {},
          "execution_count": 4
        },
        {
          "output_type": "display_data",
          "data": {
            "text/plain": [
              "<Figure size 640x480 with 1 Axes>"
            ],
            "image/png": "[encoded data removed]"
          },
          "metadata": {}
        }
      ],
      "source": [
        "##scatter plot\n",
        "plt.scatter(df['Weight'],df['Height'])\n",
        "plt.xlabel(\"Weight\")\n",
        "plt.ylabel(\"Height\")"
      ]
    },
    {
      "cell_type": "code",
      "execution_count": 5,
      "metadata": {
        "id": "XoIrnaiCkuTn",
        "outputId": "7d69d5c2-136c-4766-a61e-c14ccbd696c0",
        "colab": {
          "base_uri": "https://localhost:8080/",
          "height": 112
        }
      },
      "outputs": [
        {
          "output_type": "execute_result",
          "data": {
            "text/plain": [
              "          Weight    Height\n",
              "Weight  1.000000  0.931142\n",
              "Height  0.931142  1.000000"
            ],
            "text/html": [
              "\n",
              "  <div id=\"df-6682acad-d0f1-439a-a518-8561248e7dad\" class=\"colab-df-container\">\n",
              "    <div>\n",
              "<style scoped>\n",
              "    .dataframe tbody tr th:only-of-type {\n",
              "        vertical-align: middle;\n",
              "    }\n",
              "\n",
              "    .dataframe tbody tr th {\n",
              "        vertical-align: top;\n",
              "    }\n",
              "\n",
              "    .dataframe thead th {\n",
              "        text-align: right;\n",
              "    }\n",
              "</style>\n",
              "<table border=\"1\" class=\"dataframe\">\n",
              "  <thead>\n",
              "    <tr style=\"text-align: right;\">\n",
              "      <th></th>\n",
              "      <th>Weight</th>\n",
              "      <th>Height</th>\n",
              "    </tr>\n",
              "  </thead>\n",
              "  <tbody>\n",
              "    <tr>\n",
              "      <th>Weight</th>\n",
              "      <td>1.000000</td>\n",
              "      <td>0.931142</td>\n",
              "    </tr>\n",
              "    <tr>\n",
              "      <th>Height</th>\n",
              "      <td>0.931142</td>\n",
              "      <td>1.000000</td>\n",
              "    </tr>\n",
              "  </tbody>\n",
              "</table>\n",
              "</div>\n",
              "    <div class=\"colab-df-buttons\">\n",
              "\n",
              "  <div class=\"colab-df-container\">\n",
              "    <button class=\"colab-df-convert\" onclick=\"convertToInteractive('df-6682acad-d0f1-439a-a518-8561248e7dad')\"\n",
              "            title=\"Convert this dataframe to an interactive table.\"\n",
              "            style=\"display:none;\">\n",
              "\n",
              "  <svg xmlns=\"http://www.w3.org/2000/svg\" height=\"24px\" viewBox=\"0 -960 960 960\">\n",
              "    <path d=\"M120-120v-720h720v720H120Zm60-500h600v-160H180v160Zm220 220h160v-160H400v160Zm0 220h160v-160H400v160ZM180-400h160v-160H180v160Zm440 0h160v-160H620v160ZM180-180h160v-160H180v160Zm440 0h160v-160H620v160Z\"/>\n",
              "  </svg>\n",
              "    </button>\n",
              "\n",
              "  <style>\n",
              "    .colab-df-container {\n",
              "      display:flex;\n",
              "      gap: 12px;\n",
              "    }\n",
              "\n",
              "    .colab-df-convert {\n",
              "      background-color: #E8F0FE;\n",
              "      border: none;\n",
              "      border-radius: 50%;\n",
              "      cursor: pointer;\n",
              "      display: none;\n",
              "      fill: #1967D2;\n",
              "      height: 32px;\n",
              "      padding: 0 0 0 0;\n",
              "      width: 32px;\n",
              "    }\n",
              "\n",
              "    .colab-df-convert:hover {\n",
              "      background-color: #E2EBFA;\n",
              "      box-shadow: 0px 1px 2px rgba(60, 64, 67, 0.3), 0px 1px 3px 1px rgba(60, 64, 67, 0.15);\n",
              "      fill: #174EA6;\n",
              "    }\n",
              "\n",
              "    .colab-df-buttons div {\n",
              "      margin-bottom: 4px;\n",
              "    }\n",
              "\n",
              "    [theme=dark] .colab-df-convert {\n",
              "      background-color: #3B4455;\n",
              "      fill: #D2E3FC;\n",
              "    }\n",
              "\n",
              "    [theme=dark] .colab-df-convert:hover {\n",
              "      background-color: #434B5C;\n",
              "      box-shadow: 0px 1px 3px 1px rgba(0, 0, 0, 0.15);\n",
              "      filter: drop-shadow(0px 1px 2px rgba(0, 0, 0, 0.3));\n",
              "      fill: #FFFFFF;\n",
              "    }\n",
              "  </style>\n",
              "\n",
              "    <script>\n",
              "      const buttonEl =\n",
              "        document.querySelector('#df-6682acad-d0f1-439a-a518-8561248e7dad button.colab-df-convert');\n",
              "      buttonEl.style.display =\n",
              "        google.colab.kernel.accessAllowed ? 'block' : 'none';\n",
              "\n",
              "      async function convertToInteractive(key) {\n",
              "        const element = document.querySelector('#df-6682acad-d0f1-439a-a518-8561248e7dad');\n",
              "        const dataTable =\n",
              "          await google.colab.kernel.invokeFunction('convertToInteractive',\n",
              "                                                    [key], {});\n",
              "        if (!dataTable) return;\n",
              "\n",
              "        const docLinkHtml = 'Like what you see? Visit the ' +\n",
              "          '<a target=\"_blank\" href=https://colab.research.google.com/notebooks/data_table.ipynb>data table notebook</a>'\n",
              "          + ' to learn more about interactive tables.';\n",
              "        element.innerHTML = '';\n",
              "        dataTable['output_type'] = 'display_data';\n",
              "        await google.colab.output.renderOutput(dataTable, element);\n",
              "        const docLink = document.createElement('div');\n",
              "        docLink.innerHTML = docLinkHtml;\n",
              "        element.appendChild(docLink);\n",
              "      }\n",
              "    </script>\n",
              "  </div>\n",
              "\n",
              "\n",
              "<div id=\"df-4122e744-f53b-4a43-9d77-c4f053983f7a\">\n",
              "  <button class=\"colab-df-quickchart\" onclick=\"quickchart('df-4122e744-f53b-4a43-9d77-c4f053983f7a')\"\n",
              "            title=\"Suggest charts\"\n",
              "            style=\"display:none;\">\n",
              "\n",
              "<svg xmlns=\"http://www.w3.org/2000/svg\" height=\"24px\"viewBox=\"0 0 24 24\"\n",
              "     width=\"24px\">\n",
              "    <g>\n",
              "        <path d=\"M19 3H5c-1.1 0-2 .9-2 2v14c0 1.1.9 2 2 2h14c1.1 0 2-.9 2-2V5c0-1.1-.9-2-2-2zM9 17H7v-7h2v7zm4 0h-2V7h2v10zm4 0h-2v-4h2v4z\"/>\n",
              "    </g>\n",
              "</svg>\n",
              "  </button>\n",
              "\n",
              "<style>\n",
              "  .colab-df-quickchart {\n",
              "      --bg-color: #E8F0FE;\n",
              "      --fill-color: #1967D2;\n",
              "      --hover-bg-color: #E2EBFA;\n",
              "      --hover-fill-color: #174EA6;\n",
              "      --disabled-fill-color: #AAA;\n",
              "      --disabled-bg-color: #DDD;\n",
              "  }\n",
              "\n",
              "  [theme=dark] .colab-df-quickchart {\n",
              "      --bg-color: #3B4455;\n",
              "      --fill-color: #D2E3FC;\n",
              "      --hover-bg-color: #434B5C;\n",
              "      --hover-fill-color: #FFFFFF;\n",
              "      --disabled-bg-color: #3B4455;\n",
              "      --disabled-fill-color: #666;\n",
              "  }\n",
              "\n",
              "  .colab-df-quickchart {\n",
              "    background-color: var(--bg-color);\n",
              "    border: none;\n",
              "    border-radius: 50%;\n",
              "    cursor: pointer;\n",
              "    display: none;\n",
              "    fill: var(--fill-color);\n",
              "    height: 32px;\n",
              "    padding: 0;\n",
              "    width: 32px;\n",
              "  }\n",
              "\n",
              "  .colab-df-quickchart:hover {\n",
              "    background-color: var(--hover-bg-color);\n",
              "    box-shadow: 0 1px 2px rgba(60, 64, 67, 0.3), 0 1px 3px 1px rgba(60, 64, 67, 0.15);\n",
              "    fill: var(--button-hover-fill-color);\n",
              "  }\n",
              "\n",
              "  .colab-df-quickchart-complete:disabled,\n",
              "  .colab-df-quickchart-complete:disabled:hover {\n",
              "    background-color: var(--disabled-bg-color);\n",
              "    fill: var(--disabled-fill-color);\n",
              "    box-shadow: none;\n",
              "  }\n",
              "\n",
              "  .colab-df-spinner {\n",
              "    border: 2px solid var(--fill-color);\n",
              "    border-color: transparent;\n",
              "    border-bottom-color: var(--fill-color);\n",
              "    animation:\n",
              "      spin 1s steps(1) infinite;\n",
              "  }\n",
              "\n",
              "  @keyframes spin {\n",
              "    0% {\n",
              "      border-color: transparent;\n",
              "      border-bottom-color: var(--fill-color);\n",
              "      border-left-color: var(--fill-color);\n",
              "    }\n",
              "    20% {\n",
              "      border-color: transparent;\n",
              "      border-left-color: var(--fill-color);\n",
              "      border-top-color: var(--fill-color);\n",
              "    }\n",
              "    30% {\n",
              "      border-color: transparent;\n",
              "      border-left-color: var(--fill-color);\n",
              "      border-top-color: var(--fill-color);\n",
              "      border-right-color: var(--fill-color);\n",
              "    }\n",
              "    40% {\n",
              "      border-color: transparent;\n",
              "      border-right-color: var(--fill-color);\n",
              "      border-top-color: var(--fill-color);\n",
              "    }\n",
              "    60% {\n",
              "      border-color: transparent;\n",
              "      border-right-color: var(--fill-color);\n",
              "    }\n",
              "    80% {\n",
              "      border-color: transparent;\n",
              "      border-right-color: var(--fill-color);\n",
              "      border-bottom-color: var(--fill-color);\n",
              "    }\n",
              "    90% {\n",
              "      border-color: transparent;\n",
              "      border-bottom-color: var(--fill-color);\n",
              "    }\n",
              "  }\n",
              "</style>\n",
              "\n",
              "  <script>\n",
              "    async function quickchart(key) {\n",
              "      const quickchartButtonEl =\n",
              "        document.querySelector('#' + key + ' button');\n",
              "      quickchartButtonEl.disabled = true;  // To prevent multiple clicks.\n",
              "      quickchartButtonEl.classList.add('colab-df-spinner');\n",
              "      try {\n",
              "        const charts = await google.colab.kernel.invokeFunction(\n",
              "            'suggestCharts', [key], {});\n",
              "      } catch (error) {\n",
              "        console.error('Error during call to suggestCharts:', error);\n",
              "      }\n",
              "      quickchartButtonEl.classList.remove('colab-df-spinner');\n",
              "      quickchartButtonEl.classList.add('colab-df-quickchart-complete');\n",
              "    }\n",
              "    (() => {\n",
              "      let quickchartButtonEl =\n",
              "        document.querySelector('#df-4122e744-f53b-4a43-9d77-c4f053983f7a button');\n",
              "      quickchartButtonEl.style.display =\n",
              "        google.colab.kernel.accessAllowed ? 'block' : 'none';\n",
              "    })();\n",
              "  </script>\n",
              "</div>\n",
              "    </div>\n",
              "  </div>\n"
            ],
            "application/vnd.google.colaboratory.intrinsic+json": {
              "type": "dataframe",
              "summary": "{\n  \"name\": \"df\",\n  \"rows\": 2,\n  \"fields\": [\n    {\n      \"column\": \"Weight\",\n      \"properties\": {\n        \"dtype\": \"number\",\n        \"std\": 0.048690097732809,\n        \"min\": 0.93114180343299,\n        \"max\": 1.0,\n        \"num_unique_values\": 2,\n        \"samples\": [\n          0.93114180343299,\n          1.0\n        ],\n        \"semantic_type\": \"\",\n        \"description\": \"\"\n      }\n    },\n    {\n      \"column\": \"Height\",\n      \"properties\": {\n        \"dtype\": \"number\",\n        \"std\": 0.048690097732809,\n        \"min\": 0.93114180343299,\n        \"max\": 1.0,\n        \"num_unique_values\": 2,\n        \"samples\": [\n          1.0,\n          0.93114180343299\n        ],\n        \"semantic_type\": \"\",\n        \"description\": \"\"\n      }\n    }\n  ]\n}"
            }
          },
          "metadata": {},
          "execution_count": 5
        }
      ],
      "source": [
        "## Correlation\n",
        "df.corr()"
      ]
    },
    {
      "cell_type": "code",
      "execution_count": 6,
      "metadata": {
        "id": "37yffsFokuTn",
        "outputId": "598bdcbe-5270-44d4-9743-54b030517b54",
        "colab": {
          "base_uri": "https://localhost:8080/",
          "height": 531
        }
      },
      "outputs": [
        {
          "output_type": "execute_result",
          "data": {
            "text/plain": [
              "<seaborn.axisgrid.PairGrid at 0x7959aaf645e0>"
            ]
          },
          "metadata": {},
          "execution_count": 6
        },
        {
          "output_type": "display_data",
          "data": {
            "text/plain": [
              "<Figure size 500x500 with 6 Axes>"
            ],
            "image/png": "[encoded data removed]"
          },
          "metadata": {}
        }
      ],
      "source": [
        "## Seaborn for visualization\n",
        "import seaborn as sns\n",
        "sns.pairplot(df)"
      ]
    },
    {
      "cell_type": "code",
      "execution_count": 7,
      "metadata": {
        "id": "IVJWav-5kuTo"
      },
      "outputs": [],
      "source": [
        "## Independent and dependent features\n",
        "X=df[['Weight']] ### independent features should be data frame or 2 dimesnionalarray\n",
        "y=df['Height'] ## this variiable can be in series or 1d array\n"
      ]
    },
    {
      "cell_type": "code",
      "source": [
        "X.shape"
      ],
      "metadata": {
        "colab": {
          "base_uri": "https://localhost:8080/"
        },
        "id": "Af20DdH_sGGN",
        "outputId": "69a60ecf-2fac-47a2-be4e-06c503540de6"
      },
      "execution_count": 37,
      "outputs": [
        {
          "output_type": "execute_result",
          "data": {
            "text/plain": [
              "(23, 1)"
            ]
          },
          "metadata": {},
          "execution_count": 37
        }
      ]
    },
    {
      "cell_type": "code",
      "execution_count": 8,
      "metadata": {
        "id": "OB9TgVQykuTo",
        "outputId": "4e10362e-4410-41e8-9993-f8fe90846ea1",
        "colab": {
          "base_uri": "https://localhost:8080/"
        }
      },
      "outputs": [
        {
          "output_type": "execute_result",
          "data": {
            "text/plain": [
              "(23,)"
            ]
          },
          "metadata": {},
          "execution_count": 8
        }
      ],
      "source": [
        "X_series=df['Weight']\n",
        "np.array(X_series).shape"
      ]
    },
    {
      "cell_type": "code",
      "source": [
        "X_series.shape"
      ],
      "metadata": {
        "colab": {
          "base_uri": "https://localhost:8080/"
        },
        "id": "jYwDacsCmVrk",
        "outputId": "1438204d-ac34-494c-d79b-889d44aa83eb"
      },
      "execution_count": 9,
      "outputs": [
        {
          "output_type": "execute_result",
          "data": {
            "text/plain": [
              "(23,)"
            ]
          },
          "metadata": {},
          "execution_count": 9
        }
      ]
    },
    {
      "cell_type": "code",
      "execution_count": 10,
      "metadata": {
        "id": "Qcfd2j4PkuTo",
        "outputId": "401cdb47-3caa-47bf-b50a-9c94ca150598",
        "colab": {
          "base_uri": "https://localhost:8080/"
        }
      },
      "outputs": [
        {
          "output_type": "execute_result",
          "data": {
            "text/plain": [
              "(23,)"
            ]
          },
          "metadata": {},
          "execution_count": 10
        }
      ],
      "source": [
        "np.array(y).shape"
      ]
    },
    {
      "cell_type": "code",
      "source": [
        "y.shape"
      ],
      "metadata": {
        "colab": {
          "base_uri": "https://localhost:8080/"
        },
        "id": "v2Z5nAFumi3I",
        "outputId": "e34e8673-f4cf-46ef-d4f8-69a6d4bddbc1"
      },
      "execution_count": 11,
      "outputs": [
        {
          "output_type": "execute_result",
          "data": {
            "text/plain": [
              "(23,)"
            ]
          },
          "metadata": {},
          "execution_count": 11
        }
      ]
    },
    {
      "cell_type": "markdown",
      "source": [
        "We will be using X and y in the code below![Screenshot 2024-03-27 at 3.14.17 PM.png](data:image/png;base64,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)"
      ],
      "metadata": {
        "id": "WLI5afjnsTGH"
      }
    },
    {
      "cell_type": "code",
      "execution_count": 15,
      "metadata": {
        "id": "r2br7qnSkuTo"
      },
      "outputs": [],
      "source": [
        "## Train Test Split\n",
        "from sklearn.model_selection import train_test_split\n"
      ]
    },
    {
      "cell_type": "code",
      "execution_count": 16,
      "metadata": {
        "id": "1mJ1B99wkuTo"
      },
      "outputs": [],
      "source": [
        "X_train,X_test,y_train,y_test=train_test_split(X,y,test_size=0.25,random_state=42)"
      ]
    },
    {
      "cell_type": "code",
      "execution_count": 17,
      "metadata": {
        "id": "oMIFri0bkuTo"
      },
      "outputs": [],
      "source": [
        "## Standardization\n",
        "from sklearn.preprocessing import StandardScaler"
      ]
    },
    {
      "cell_type": "markdown",
      "source": [
        "\n",
        "Standardization, also known as z-score normalization or feature scaling, is a technique used in data preprocessing to rescale the features (independent variables) of a dataset so that they have a mean of 0 and a standard deviation of 1. It involves subtracting the mean of each feature and then dividing by the standard deviation.\n",
        "\n",
        "The formula for standardizing a feature x is:\n",
        "\n",
        "z=x−μ/σ\n",
        "\n",
        "Where:\n",
        "z is the standardized value,\n",
        "\n",
        "x is the original value of the feature,\n",
        "\n",
        "μ is the mean of the feature,\n",
        "\n",
        "σ is the standard deviation of the feature."
      ],
      "metadata": {
        "id": "sxTXEHzIEIIV"
      }
    },
    {
      "cell_type": "code",
      "execution_count": 18,
      "metadata": {
        "id": "8LQH4VtXkuTp"
      },
      "outputs": [],
      "source": [
        "scaler=StandardScaler()\n",
        "X_train=scaler.fit_transform(X_train)"
      ]
    },
    {
      "cell_type": "code",
      "execution_count": 19,
      "metadata": {
        "id": "qW0IFu9IkuTp"
      },
      "outputs": [],
      "source": [
        "X_test=scaler.transform(X_test)"
      ]
    },
    {
      "cell_type": "code",
      "execution_count": 20,
      "metadata": {
        "id": "R-ffCHcckuTp",
        "outputId": "8c4e88f9-45bb-4f84-b649-82e4ba25756f",
        "colab": {
          "base_uri": "https://localhost:8080/"
        }
      },
      "outputs": [
        {
          "output_type": "execute_result",
          "data": {
            "text/plain": [
              "array([[ 0.33497168],\n",
              "       [ 0.33497168],\n",
              "       [-1.6641678 ],\n",
              "       [ 1.36483141],\n",
              "       [-0.45256812],\n",
              "       [ 1.97063125]])"
            ]
          },
          "metadata": {},
          "execution_count": 20
        }
      ],
      "source": [
        "X_test"
      ]
    },
    {
      "cell_type": "code",
      "execution_count": 21,
      "metadata": {
        "id": "I2sKtqqxkuTp"
      },
      "outputs": [],
      "source": [
        "## Apply Simple Linear Regression\n",
        "from sklearn.linear_model import LinearRegression"
      ]
    },
    {
      "cell_type": "code",
      "execution_count": 22,
      "metadata": {
        "id": "4AkT3MpakuTp"
      },
      "outputs": [],
      "source": [
        "regression=LinearRegression(n_jobs=-1)"
      ]
    },
    {
      "cell_type": "code",
      "execution_count": 23,
      "metadata": {
        "id": "yCwnRu83kuTp",
        "outputId": "5a8ad96c-ee1e-43ae-ead4-2f8f251967db",
        "colab": {
          "base_uri": "https://localhost:8080/",
          "height": 75
        }
      },
      "outputs": [
        {
          "output_type": "execute_result",
          "data": {
            "text/plain": [
              "LinearRegression(n_jobs=-1)"
            ],
            "text/html": [
              "<style>#sk-container-id-1 {color: black;background-color: white;}#sk-container-id-1 pre{padding: 0;}#sk-container-id-1 div.sk-toggleable {background-color: white;}#sk-container-id-1 label.sk-toggleable__label {cursor: pointer;display: block;width: 100%;margin-bottom: 0;padding: 0.3em;box-sizing: border-box;text-align: center;}#sk-container-id-1 label.sk-toggleable__label-arrow:before {content: \"▸\";float: left;margin-right: 0.25em;color: #696969;}#sk-container-id-1 label.sk-toggleable__label-arrow:hover:before {color: black;}#sk-container-id-1 div.sk-estimator:hover label.sk-toggleable__label-arrow:before {color: black;}#sk-container-id-1 div.sk-toggleable__content {max-height: 0;max-width: 0;overflow: hidden;text-align: left;background-color: #f0f8ff;}#sk-container-id-1 div.sk-toggleable__content pre {margin: 0.2em;color: black;border-radius: 0.25em;background-color: #f0f8ff;}#sk-container-id-1 input.sk-toggleable__control:checked~div.sk-toggleable__content {max-height: 200px;max-width: 100%;overflow: auto;}#sk-container-id-1 input.sk-toggleable__control:checked~label.sk-toggleable__label-arrow:before {content: \"▾\";}#sk-container-id-1 div.sk-estimator input.sk-toggleable__control:checked~label.sk-toggleable__label {background-color: #d4ebff;}#sk-container-id-1 div.sk-label input.sk-toggleable__control:checked~label.sk-toggleable__label {background-color: #d4ebff;}#sk-container-id-1 input.sk-hidden--visually {border: 0;clip: rect(1px 1px 1px 1px);clip: rect(1px, 1px, 1px, 1px);height: 1px;margin: -1px;overflow: hidden;padding: 0;position: absolute;width: 1px;}#sk-container-id-1 div.sk-estimator {font-family: monospace;background-color: #f0f8ff;border: 1px dotted black;border-radius: 0.25em;box-sizing: border-box;margin-bottom: 0.5em;}#sk-container-id-1 div.sk-estimator:hover {background-color: #d4ebff;}#sk-container-id-1 div.sk-parallel-item::after {content: \"\";width: 100%;border-bottom: 1px solid gray;flex-grow: 1;}#sk-container-id-1 div.sk-label:hover label.sk-toggleable__label {background-color: #d4ebff;}#sk-container-id-1 div.sk-serial::before {content: \"\";position: absolute;border-left: 1px solid gray;box-sizing: border-box;top: 0;bottom: 0;left: 50%;z-index: 0;}#sk-container-id-1 div.sk-serial {display: flex;flex-direction: column;align-items: center;background-color: white;padding-right: 0.2em;padding-left: 0.2em;position: relative;}#sk-container-id-1 div.sk-item {position: relative;z-index: 1;}#sk-container-id-1 div.sk-parallel {display: flex;align-items: stretch;justify-content: center;background-color: white;position: relative;}#sk-container-id-1 div.sk-item::before, #sk-container-id-1 div.sk-parallel-item::before {content: \"\";position: absolute;border-left: 1px solid gray;box-sizing: border-box;top: 0;bottom: 0;left: 50%;z-index: -1;}#sk-container-id-1 div.sk-parallel-item {display: flex;flex-direction: column;z-index: 1;position: relative;background-color: white;}#sk-container-id-1 div.sk-parallel-item:first-child::after {align-self: flex-end;width: 50%;}#sk-container-id-1 div.sk-parallel-item:last-child::after {align-self: flex-start;width: 50%;}#sk-container-id-1 div.sk-parallel-item:only-child::after {width: 0;}#sk-container-id-1 div.sk-dashed-wrapped {border: 1px dashed gray;margin: 0 0.4em 0.5em 0.4em;box-sizing: border-box;padding-bottom: 0.4em;background-color: white;}#sk-container-id-1 div.sk-label label {font-family: monospace;font-weight: bold;display: inline-block;line-height: 1.2em;}#sk-container-id-1 div.sk-label-container {text-align: center;}#sk-container-id-1 div.sk-container {/* jupyter's `normalize.less` sets `[hidden] { display: none; }` but bootstrap.min.css set `[hidden] { display: none !important; }` so we also need the `!important` here to be able to override the default hidden behavior on the sphinx rendered scikit-learn.org. See: https://github.com/scikit-learn/scikit-learn/issues/21755 */display: inline-block !important;position: relative;}#sk-container-id-1 div.sk-text-repr-fallback {display: none;}</style><div id=\"sk-container-id-1\" class=\"sk-top-container\"><div class=\"sk-text-repr-fallback\"><pre>LinearRegression(n_jobs=-1)</pre><b>In a Jupyter environment, please rerun this cell to show the HTML representation or trust the notebook. <br />On GitHub, the HTML representation is unable to render, please try loading this page with nbviewer.org.</b></div><div class=\"sk-container\" hidden><div class=\"sk-item\"><div class=\"sk-estimator sk-toggleable\"><input class=\"sk-toggleable__control sk-hidden--visually\" id=\"sk-estimator-id-1\" type=\"checkbox\" checked><label for=\"sk-estimator-id-1\" class=\"sk-toggleable__label sk-toggleable__label-arrow\">LinearRegression</label><div class=\"sk-toggleable__content\"><pre>LinearRegression(n_jobs=-1)</pre></div></div></div></div></div>"
            ]
          },
          "metadata": {},
          "execution_count": 23
        }
      ],
      "source": [
        "regression.fit(X_train,y_train)"
      ]
    },
    {
      "cell_type": "markdown",
      "source": [
        "ŷ = b0 + b1x\n",
        "\n",
        "\n",
        "Where\n",
        "\n",
        "ŷ is the predicted value of y\n",
        "\n",
        "b0 is the intercept\n",
        "\n",
        "b1 is the slope"
      ],
      "metadata": {
        "id": "nDEQNzZpimbA"
      }
    },
    {
      "cell_type": "code",
      "execution_count": 24,
      "metadata": {
        "id": "YgUBrg5MkuTp",
        "outputId": "3516f96d-79f9-44cb-b0cb-7875253b5133",
        "colab": {
          "base_uri": "https://localhost:8080/"
        }
      },
      "outputs": [
        {
          "output_type": "stream",
          "name": "stdout",
          "text": [
            "Coefficient or slope: [17.2982057]\n",
            "Intercept: 156.47058823529412\n"
          ]
        }
      ],
      "source": [
        "print(\"Coefficient or slope:\",regression.coef_)\n",
        "print(\"Intercept:\",regression.intercept_)"
      ]
    },
    {
      "cell_type": "code",
      "execution_count": 25,
      "metadata": {
        "id": "cj1k-rIkkuTp",
        "outputId": "cec93312-7872-445c-bd28-ede1304a502f",
        "colab": {
          "base_uri": "https://localhost:8080/",
          "height": 448
        }
      },
      "outputs": [
        {
          "output_type": "execute_result",
          "data": {
            "text/plain": [
              "[<matplotlib.lines.Line2D at 0x7959a2155f30>]"
            ]
          },
          "metadata": {},
          "execution_count": 25
        },
        {
          "output_type": "display_data",
          "data": {
            "text/plain": [
              "<Figure size 640x480 with 1 Axes>"
            ],
            "image/png": "[encoded data removed]"
          },
          "metadata": {}
        }
      ],
      "source": [
        "## plot Training data plot best fit line\n",
        "plt.scatter(X_train,y_train)\n",
        "plt.plot(X_train,regression.predict(X_train))"
      ]
    },
    {
      "cell_type": "markdown",
      "metadata": {
        "id": "GHga1goNkuTp"
      },
      "source": [
        "### prediction of test data\n",
        "1. predicted height output= intercept +coef_(Weights)\n",
        "2. y_pred_test =156.470 + 17.29(X_test)"
      ]
    },
    {
      "cell_type": "code",
      "execution_count": 26,
      "metadata": {
        "id": "LHDrwu4wkuTq"
      },
      "outputs": [],
      "source": [
        "## Prediction for test data\n",
        "y_pred=regression.predict(X_test)"
      ]
    },
    {
      "cell_type": "code",
      "execution_count": 27,
      "metadata": {
        "id": "rFNx1dA1kuTq"
      },
      "outputs": [],
      "source": [
        "## Performance Metrics\n",
        "from sklearn.metrics import mean_absolute_error,mean_squared_error"
      ]
    },
    {
      "cell_type": "code",
      "execution_count": 28,
      "metadata": {
        "id": "26dOiSYekuTq",
        "outputId": "d99b5f0f-61f5-425d-e097-48d803ddf464",
        "colab": {
          "base_uri": "https://localhost:8080/"
        }
      },
      "outputs": [
        {
          "output_type": "stream",
          "name": "stdout",
          "text": [
            "114.84069295228699\n",
            "9.66512588679501\n",
            "10.716374991212605\n"
          ]
        }
      ],
      "source": [
        "mse=mean_squared_error(y_test,y_pred)\n",
        "mae=mean_absolute_error(y_test,y_pred)\n",
        "rmse=np.sqrt(mse)\n",
        "print(mse)\n",
        "print(mae)\n",
        "print(rmse)"
      ]
    },
    {
      "cell_type": "markdown",
      "metadata": {
        "id": "5lp8lDgQkuTq"
      },
      "source": [
        "## R square\n",
        "Formula\n",
        "\n",
        "**R^2 = 1 - SSR/SST**\n",
        "\n",
        "\n",
        "R^2\t=\tcoefficient of determination\n",
        "SSR\t=\tsum of squares of residuals\n",
        "SST\t=\ttotal sum of squares"
      ]
    },
    {
      "cell_type": "code",
      "execution_count": 29,
      "metadata": {
        "id": "7lGSzeQ8kuTq"
      },
      "outputs": [],
      "source": [
        "from sklearn.metrics import r2_score"
      ]
    },
    {
      "cell_type": "code",
      "execution_count": 30,
      "metadata": {
        "id": "0mS24HqAkuTq",
        "outputId": "19e5363b-5a25-42e9-f1d9-a65f601185b0",
        "colab": {
          "base_uri": "https://localhost:8080/"
        }
      },
      "outputs": [
        {
          "output_type": "stream",
          "name": "stdout",
          "text": [
            "0.7360826717981276\n"
          ]
        }
      ],
      "source": [
        "score=r2_score(y_test,y_pred)\n",
        "print(score)"
      ]
    },
    {
      "cell_type": "markdown",
      "metadata": {
        "id": "dCIpArVIkuTq"
      },
      "source": [
        "**Adjusted R2 = 1 – [(1-R2)*(n-1)/(n-k-1)]**\n",
        "\n",
        "where:\n",
        "\n",
        "R2: The R2 of the model\n",
        "n: The number of observations\n",
        "k: The number of predictor variables"
      ]
    },
    {
      "cell_type": "code",
      "execution_count": 31,
      "metadata": {
        "id": "YYNnFFFWkuTq",
        "outputId": "268d5e92-fc2b-49cf-86e6-01fd40325fb4",
        "colab": {
          "base_uri": "https://localhost:8080/"
        }
      },
      "outputs": [
        {
          "output_type": "execute_result",
          "data": {
            "text/plain": [
              "0.6701033397476595"
            ]
          },
          "metadata": {},
          "execution_count": 31
        }
      ],
      "source": [
        "#display adjusted R-squared\n",
        "1 - (1-score)*(len(y_test)-1)/(len(y_test)-X_test.shape[1]-1)"
      ]
    },
    {
      "cell_type": "code",
      "execution_count": 32,
      "metadata": {
        "id": "_aVCZHYskuTq"
      },
      "outputs": [],
      "source": [
        "## OLS Linear Regression\n",
        "import statsmodels.api as sm"
      ]
    },
    {
      "cell_type": "code",
      "execution_count": 33,
      "metadata": {
        "id": "qqaYFhGJkuTq"
      },
      "outputs": [],
      "source": [
        "model=sm.OLS(y_train,X_train).fit()"
      ]
    },
    {
      "cell_type": "code",
      "execution_count": 34,
      "metadata": {
        "id": "6h6rC2oMkuTq",
        "outputId": "2c6464a4-42e2-42dc-8667-e0514dedd0b0",
        "colab": {
          "base_uri": "https://localhost:8080/"
        }
      },
      "outputs": [
        {
          "output_type": "stream",
          "name": "stdout",
          "text": [
            "[  5.79440897   5.79440897 -28.78711691  23.60913442  -7.82861638\n",
            "  34.08838469]\n"
          ]
        }
      ],
      "source": [
        "prediction=model.predict(X_test)\n",
        "print(prediction)"
      ]
    },
    {
      "cell_type": "code",
      "execution_count": 35,
      "metadata": {
        "id": "s-XbA7j4kuTq",
        "outputId": "f6757f37-acfd-4606-8045-ba8351057ae3",
        "colab": {
          "base_uri": "https://localhost:8080/"
        }
      },
      "outputs": [
        {
          "output_type": "stream",
          "name": "stdout",
          "text": [
            "                                 OLS Regression Results                                \n",
            "=======================================================================================\n",
            "Dep. Variable:                 Height   R-squared (uncentered):                   0.012\n",
            "Model:                            OLS   Adj. R-squared (uncentered):             -0.050\n",
            "Method:                 Least Squares   F-statistic:                             0.1953\n",
            "Date:                Wed, 27 Mar 2024   Prob (F-statistic):                       0.664\n",
            "Time:                        15:52:59   Log-Likelihood:                         -110.03\n",
            "No. Observations:                  17   AIC:                                      222.1\n",
            "Df Residuals:                      16   BIC:                                      222.9\n",
            "Df Model:                           1                                                  \n",
            "Covariance Type:            nonrobust                                                  \n",
            "==============================================================================\n",
            "                 coef    std err          t      P>|t|      [0.025      0.975]\n",
            "------------------------------------------------------------------------------\n",
            "x1            17.2982     39.138      0.442      0.664     -65.671     100.267\n",
            "==============================================================================\n",
            "Omnibus:                        0.135   Durbin-Watson:                   0.002\n",
            "Prob(Omnibus):                  0.935   Jarque-Bera (JB):                0.203\n",
            "Skew:                          -0.166   Prob(JB):                        0.904\n",
            "Kurtosis:                       2.581   Cond. No.                         1.00\n",
            "==============================================================================\n",
            "\n",
            "Notes:\n",
            "[1] R² is computed without centering (uncentered) since the model does not contain a constant.\n",
            "[2] Standard Errors assume that the covariance matrix of the errors is correctly specified.\n"
          ]
        },
        {
          "output_type": "stream",
          "name": "stderr",
          "text": [
            "/usr/local/lib/python3.10/dist-packages/scipy/stats/_stats_py.py:1806: UserWarning: kurtosistest only valid for n>=20 ... continuing anyway, n=17\n",
            "  warnings.warn(\"kurtosistest only valid for n>=20 ... continuing \"\n"
          ]
        }
      ],
      "source": [
        "print(model.summary())"
      ]
    },
    {
      "cell_type": "code",
      "execution_count": 36,
      "metadata": {
        "id": "VFuC2aIvkuTq",
        "outputId": "35f5d654-a701-44d2-867e-189310201a9b",
        "colab": {
          "base_uri": "https://localhost:8080/"
        }
      },
      "outputs": [
        {
          "output_type": "stream",
          "name": "stderr",
          "text": [
            "/usr/local/lib/python3.10/dist-packages/sklearn/base.py:439: UserWarning: X does not have valid feature names, but StandardScaler was fitted with feature names\n",
            "  warnings.warn(\n"
          ]
        },
        {
          "output_type": "execute_result",
          "data": {
            "text/plain": [
              "array([155.97744705])"
            ]
          },
          "metadata": {},
          "execution_count": 36
        }
      ],
      "source": [
        "## Prediction For new data\n",
        "regression.predict(scaler.transform([[72]]))"
      ]
    },
    {
      "cell_type": "code",
      "execution_count": null,
      "metadata": {
        "id": "JYLYpyJ6kuTr"
      },
      "outputs": [],
      "source": []
    }
  ],
  "metadata": {
    "kernelspec": {
      "display_name": "Python 3",
      "language": "python",
      "name": "python3"
    },
    "language_info": {
      "codemirror_mode": {
        "name": "ipython",
        "version": 3
      },
      "file_extension": ".py",
      "mimetype": "text/x-python",
      "name": "python",
      "nbconvert_exporter": "python",
      "pygments_lexer": "ipython3",
      "version": "3.8.5"
    },
    "colab": {
      "provenance": []
    }
  },
  "nbformat": 4,
  "nbformat_minor": 0
}