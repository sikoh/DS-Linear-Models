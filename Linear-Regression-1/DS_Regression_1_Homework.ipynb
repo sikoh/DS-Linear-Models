{
  "cells": [
    {
      "cell_type": "markdown",
      "metadata": {
        "id": "view-in-github",
        "colab_type": "text"
      },
      "source": [
        "<a href=\"https://colab.research.google.com/github/sikoh/DS-Linear-Models/blob/main/Linear-Regression-1/DS_Regression_1_Homework.ipynb\" target=\"_parent\"><img src=\"https://colab.research.google.com/assets/colab-badge.svg\" alt=\"Open In Colab\"/></a>"
      ]
    },
    {
      "cell_type": "markdown",
      "metadata": {
        "id": "uw30IC42FsAa"
      },
      "source": [
        "# Module Project: Regression I\n",
        "\n",
        "During the guided project, we predicted how much it would cost to buy a condo in Tribecca. For the module project, your goal will be similar: predict how much it costs to rent an apartment in New York City.\n",
        "\n",
        "Dataset source: [renthop.com](https://www.renthop.com/).\n",
        "\n",
        "## Directions\n",
        "\n",
        "> Do Not Copy-Paste. You must *type* each of these exercises in, manually. If you copy and paste, you might as well not even do them. The point of these exercises is to train your hands, your brain, and your mind in how to read, write, and see code. If you copy-paste, you are cheating yourself out of the effectiveness of the lessons.\n",
        ">\n",
        "> — Zed Shaw, [Learn Python the Hard Way](https://learnpythonthehardway.org/)\n",
        "\n",
        "The tasks for this project are as follows:\n",
        "\n",
        "- **Task 1:** Import `csv` file using wrangle function.\n",
        "- **Task 2:** Conduct exploratory data analysis (EDA) and plot the relationship between one feature and the target `'price'`.\n",
        "- **Task 3:** Split data into feature matrix `X` and target vector `y`.\n",
        "- **Task 4:** Establish the baseline mean absolute error for your dataset.\n",
        "- **Task 5:** Build and train a `Linearregression` model.\n",
        "- **Task 6:** Check the mean absolute error of our model on the training data.\n",
        "- **Task 7:** Extract and print the intercept and coefficient from your `LinearRegression` model.\n",
        "\n",
        "**Note**\n",
        "\n",
        "You should limit yourself to the following libraries for this project:\n",
        "\n",
        "- `matplotlib`\n",
        "- `numpy`\n",
        "- `pandas`\n",
        "- `sklearn`"
      ]
    },
    {
      "cell_type": "markdown",
      "metadata": {
        "id": "uGEs76AnFsAc"
      },
      "source": [
        "## I. Wrangle Data"
      ]
    },
    {
      "cell_type": "code",
      "execution_count": null,
      "outputs": [],
      "source": [
        "import pandas as pd\n",
        "import numpy as np"
      ],
      "metadata": {
        "ExecuteTime": {
          "end_time": "2023-10-06T20:41:31.073499Z",
          "start_time": "2023-10-06T20:41:31.065027Z"
        },
        "id": "YjwbrEuhFsAd"
      }
    },
    {
      "cell_type": "code",
      "execution_count": null,
      "metadata": {
        "id": "btskUjXaFsAe"
      },
      "outputs": [],
      "source": [
        "def wrangle(filepath):\n",
        "    df = pd.read_csv(filepath)\n",
        "\n",
        "    # Remove the most extreme 1% prices,\n",
        "    # the most extreme .1% latitudes, &\n",
        "    # the most extreme .1% longitudes\n",
        "    df = df[(df['price'] >= np.percentile(df['price'], 0.5)) &\n",
        "            (df['price'] <= np.percentile(df['price'], 99.5)) &\n",
        "            (df['latitude'] >= np.percentile(df['latitude'], 0.05)) &\n",
        "            (df['latitude'] < np.percentile(df['latitude'], 99.95)) &\n",
        "            (df['longitude'] >= np.percentile(df['longitude'], 0.05)) &\n",
        "            (df['longitude'] <= np.percentile(df['longitude'], 99.95))]\n",
        "\n",
        "    return df\n",
        "\n",
        "filepath = 'https://raw.githubusercontent.com/bloominstituteoftechnology/DS-Unit-2-Linear-Models/master/data/apartments/renthop-nyc.csv'"
      ]
    },
    {
      "cell_type": "markdown",
      "metadata": {
        "id": "w82JVsD3FsAe"
      },
      "source": [
        "**Task 1:** Use the above `wrangle` function to import the `renthop-nyc.csv` file into a DataFrame named `df`."
      ]
    },
    {
      "cell_type": "code",
      "execution_count": null,
      "metadata": {
        "id": "X8hOpMMcFsAf"
      },
      "outputs": [],
      "source": [
        "df = ..."
      ]
    },
    {
      "cell_type": "markdown",
      "metadata": {
        "id": "Wm3UoWRzFsAf"
      },
      "source": [
        "**Task 2:** Use your `pandas` and dataviz skills to explore the dataset. As part of this process, make a scatter plot that shows the relationship between one of the numerical features in the dataset and the target `'price'`.\n",
        "\n",
        "**Remember:** You should plot your feature on the `X` axis and your target on the `y` axis."
      ]
    },
    {
      "cell_type": "code",
      "execution_count": null,
      "metadata": {
        "id": "_U9fAsWGFsAf"
      },
      "outputs": [],
      "source": []
    },
    {
      "cell_type": "markdown",
      "metadata": {
        "id": "pPQKhPLkFsAg"
      },
      "source": [
        "#  II. Split Data\n",
        "\n",
        "**Task 3:** Choose one feature from the dataset and assign it to your feature matrix `X`. Then assign the column `'price'` to the target vector `y`.\n",
        "\n",
        "**Remember:** Your feature matrix needs to be two-dimensional, but your target vector must be one-dimensional."
      ]
    },
    {
      "cell_type": "code",
      "execution_count": null,
      "metadata": {
        "id": "M36ifhPVFsAg"
      },
      "outputs": [],
      "source": [
        "X = ...\n",
        "y = ..."
      ]
    },
    {
      "cell_type": "markdown",
      "metadata": {
        "id": "Uaj23W1WFsAg"
      },
      "source": [
        "# III. Establish Baseline\n",
        "\n",
        "**Task 4:** Since this is a **regression** problem, you need to calculate the baseline the mean absolute error for your model. First, calculate the mean of `y`. Next, create a list `y_pred` that has the same length as `y` and where every item in the list is the mean. Finally, use `mean_absolute_error` to calculate your baseline."
      ]
    },
    {
      "cell_type": "code",
      "execution_count": null,
      "metadata": {
        "id": "GAD9ERmNFsAh"
      },
      "outputs": [],
      "source": [
        "baseline_mae = ...\n",
        "print('Baseline MAE:', baseline_mae)"
      ]
    },
    {
      "cell_type": "markdown",
      "metadata": {
        "id": "Ie-rrVtyFsAh"
      },
      "source": [
        "# IV. Build Model\n",
        "\n",
        "**Task 5:** Build and train a `LinearRegression` model named `model` using your feature matrix `X` and your target vector `y`."
      ]
    },
    {
      "cell_type": "code",
      "execution_count": null,
      "metadata": {
        "id": "XueEuYIoFsAh"
      },
      "outputs": [],
      "source": [
        "# Step 1: Import predictor class\n",
        "\n",
        "\n",
        "# Step 2: Instantiate predictor\n",
        "model = ...\n",
        "\n",
        "# Step 3: Fit predictor on the (training) data\n"
      ]
    },
    {
      "cell_type": "markdown",
      "metadata": {
        "id": "4xoYMl0UFsAi"
      },
      "source": [
        "# V. Check Metrics\n",
        "\n",
        "**Task 6:** How does your model perform in comparison to your baseline? Calculate the mean absolute error for your model's predictions."
      ]
    },
    {
      "cell_type": "code",
      "execution_count": null,
      "metadata": {
        "id": "io0GyO2JFsAi"
      },
      "outputs": [],
      "source": [
        "training_mae = ...\n",
        "\n",
        "print('Training MAE:', training_mae)"
      ]
    },
    {
      "cell_type": "markdown",
      "metadata": {
        "id": "jkkOiKUxFsAi"
      },
      "source": [
        "# VI. Communicate Results\n",
        "\n",
        "You've just created a linear model. That means that your model makes predictions using an equation that looks like $\\texttt{apt price} = \\texttt{intercept}~+~\\texttt{coefficient}~\\times~\\texttt{your feature}$. But what are the values of the intercept and coefficient that your model is using?\n",
        "\n",
        "**Task 7:** Print out the intercept and coefficient associated with `model`."
      ]
    },
    {
      "cell_type": "code",
      "execution_count": null,
      "metadata": {
        "id": "5n9ektPNFsAi"
      },
      "outputs": [],
      "source": []
    }
  ],
  "metadata": {
    "colab": {
      "provenance": [],
      "include_colab_link": true
    },
    "kernelspec": {
      "display_name": "Python 3",
      "language": "python",
      "name": "python3"
    },
    "language_info": {
      "codemirror_mode": {
        "name": "ipython",
        "version": 3
      },
      "file_extension": ".py",
      "mimetype": "text/x-python",
      "name": "python",
      "nbconvert_exporter": "python",
      "pygments_lexer": "ipython3",
      "version": "3.8.5"
    }
  },
  "nbformat": 4,
  "nbformat_minor": 0
}