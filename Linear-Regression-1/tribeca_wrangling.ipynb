{
  "cells": [
    {
      "cell_type": "markdown",
      "metadata": {
        "id": "view-in-github",
        "colab_type": "text"
      },
      "source": [
        "<a href=\"https://colab.research.google.com/github/sikoh/DS-Linear-Models/blob/main/Linear-Regression-1/tribeca_wrangling.ipynb\" target=\"_parent\"><img src=\"https://colab.research.google.com/assets/colab-badge.svg\" alt=\"Open In Colab\"/></a>"
      ]
    },
    {
      "cell_type": "markdown",
      "metadata": {
        "id": "w_QFqU8u0Rkh"
      },
      "source": [
        "# Tribeca Data Wrangling\n",
        "\n",
        "This supplemental notebook documents and demonstrates the data wrangling for the Tribeca dataset.\n",
        "\n",
        "## Sources\n",
        "\n",
        "Data: [NYC OpenData: NYC Citywide Rolling Calendar Sales](https://data.cityofnewyork.us/dataset/NYC-Citywide-Rolling-Calendar-Sales/usep-8jbt)\n",
        "\n",
        "Glossary: [NYC Department of Finance: Rolling Sales Data](https://www1.nyc.gov/site/finance/taxes/property-rolling-sales-data.page)\n"
      ]
    },
    {
      "cell_type": "code",
      "execution_count": null,
      "metadata": {
        "id": "wwC0O-mf0Rkl"
      },
      "outputs": [],
      "source": [
        "import pandas as pd\n",
        "import pandas_profiling\n",
        "\n",
        "# Read New York City property sales data\n",
        "df = pd.read_csv('../data/condos/NYC_Citywide_Rolling_Calendar_Sales.csv')\n",
        "\n",
        "# Change column names: replace spaces with underscores\n",
        "df.columns = [col.replace(' ', '_') for col in df]\n",
        "\n",
        "# Get Pandas Profiling Report\n",
        "df.profile_report()"
      ]
    },
    {
      "cell_type": "code",
      "execution_count": null,
      "metadata": {
        "id": "vQNzqmiz0Rkn"
      },
      "outputs": [],
      "source": [
        "# Does this data include the Tribeca neighborhood?\n",
        "mask = df['NEIGHBORHOOD'].str.contains('TRIBECA')\n",
        "df[mask]"
      ]
    },
    {
      "cell_type": "code",
      "execution_count": null,
      "metadata": {
        "id": "bGLGpKVl0Rkn"
      },
      "outputs": [],
      "source": [
        "# Keep this subset\n",
        "df = df[mask]\n",
        "\n",
        "# Down from > 20k rows to < 150\n",
        "df.shape"
      ]
    },
    {
      "cell_type": "code",
      "execution_count": null,
      "metadata": {
        "id": "KtgKWIiH0Rkn"
      },
      "outputs": [],
      "source": [
        "# Why so few property sales in Tribeca?\n",
        "# Check the date range\n",
        "# It's just the first 4 months of 2019\n",
        "df['SALE_DATE'] = pd.to_datetime(df['SALE_DATE'], infer_datetime_format=True)\n",
        "df['SALE_DATE'].describe()"
      ]
    },
    {
      "cell_type": "code",
      "execution_count": null,
      "metadata": {
        "id": "MSQJkpmk0Rko"
      },
      "outputs": [],
      "source": [
        "# See the Pandas Profiling Report:\n",
        "# SALE_PRICE was read as strings\n",
        "df['SALE_PRICE'] = (\n",
        "    df['SALE_PRICE']\n",
        "    .str.replace('$','')\n",
        "    .str.replace('-','')\n",
        "    .str.replace(',','')\n",
        "    .astype(int)\n",
        ")"
      ]
    },
    {
      "cell_type": "code",
      "execution_count": null,
      "metadata": {
        "id": "epk7HnEK0Rko"
      },
      "outputs": [],
      "source": [
        "# SALE_PRICE is now a number, but hard to read in scientific notation\n",
        "# Format numbers: Comma separator for thousands. Zero decimals\n",
        "pd.options.display.float_format = '{:,.0f}'.format\n",
        "df.describe()"
      ]
    },
    {
      "cell_type": "code",
      "execution_count": null,
      "metadata": {
        "id": "sGnJZz5l0Rkp"
      },
      "outputs": [],
      "source": [
        "# Max SCALE_PRICE is $260 million!\n",
        "# Look at this observation.\n",
        "# Equivalent to: df[df['SALE_PRICE']==260000000]\n",
        "df.query('SALE_PRICE == 260000000')"
      ]
    },
    {
      "cell_type": "code",
      "execution_count": null,
      "metadata": {
        "id": "9S0UufiX0Rkp"
      },
      "outputs": [],
      "source": [
        "# How many property sales were for multiple units?\n",
        "df['TOTAL_UNITS'].value_counts()"
      ]
    },
    {
      "cell_type": "code",
      "execution_count": null,
      "metadata": {
        "id": "aIlCoQEU0Rkp"
      },
      "outputs": [],
      "source": [
        "# Keep only the single units\n",
        "\n",
        "# Would this be better though?\n",
        "# df = df[(df.RESIDENTIAL_UNITS==1) & (df.COMMERICAL_UNITS==0)]\n",
        "\n",
        "df = df.query('TOTAL_UNITS==1')\n",
        "df.describe()"
      ]
    },
    {
      "cell_type": "code",
      "execution_count": null,
      "metadata": {
        "id": "JJ-x10Wu0Rkq"
      },
      "outputs": [],
      "source": [
        "# Now max sales price is $39 million\n",
        "# Look at this observation\n",
        "# It's huge, over 8,000 square feet\n",
        "# Maybe it's legit, just a huge, expensive condo\n",
        "df.query('SALE_PRICE == 39285000')"
      ]
    },
    {
      "cell_type": "code",
      "execution_count": null,
      "metadata": {
        "id": "TpZ-TH5I0Rkr"
      },
      "outputs": [],
      "source": [
        "# The min sales price is $0\n",
        "\n",
        "# There's a glossary here:\n",
        "# https://www1.nyc.gov/site/finance/taxes/property-rolling-sales-data.page\n",
        "\n",
        "# It says:\n",
        "\n",
        "# A $0 sale indicates that there was a transfer of ownership without a\n",
        "# cash consideration. There can be a number of reasons for a $0 sale including\n",
        "# transfers of ownership from parents to children.\n",
        "\n",
        "# How often did $0 sales occur in this subset of the data?\n",
        "len(df.query('SALE_PRICE == 0'))"
      ]
    },
    {
      "cell_type": "code",
      "execution_count": null,
      "metadata": {
        "id": "R6JdZayv0Rkr"
      },
      "outputs": [],
      "source": [
        "# 75% percentile for gross square feet is 2,500\n",
        "# But the max is over 39,000 square feet.\n",
        "\n",
        "# Look at property sales for > 5,000 square feet\n",
        "\n",
        "# We see the same condo we looked at earlier,\n",
        "# Plus two property sales at 39,567 square feet.\n",
        "# TOTAL_UNITS = 1, but BUILDING_CLASS_CATEGORY = 2-10 UNIT RESIDENTIAL\n",
        "# Is this dirty data?\n",
        "\n",
        "df.query('GROSS_SQUARE_FEET > 5000')"
      ]
    },
    {
      "cell_type": "code",
      "execution_count": null,
      "metadata": {
        "id": "UjgSHQK30Rks"
      },
      "outputs": [],
      "source": [
        "# What are the building class categories?\n",
        "# How frequently does each occur?\n",
        "\n",
        "df['BUILDING_CLASS_CATEGORY'].value_counts()"
      ]
    },
    {
      "cell_type": "code",
      "execution_count": null,
      "metadata": {
        "id": "lE-lDz3r0Rks"
      },
      "outputs": [],
      "source": [
        "# Keep subset of rows:\n",
        "# Sale price more than $0,\n",
        "# Building class category = Condos - Elevator Apartments\n",
        "\n",
        "mask = (df['SALE_PRICE'] > 0) & (df['BUILDING_CLASS_CATEGORY'] == '13 CONDOS - ELEVATOR APARTMENTS')\n",
        "df = df[mask]\n",
        "\n",
        "# Down to 106 rows\n",
        "df.shape"
      ]
    },
    {
      "cell_type": "code",
      "execution_count": null,
      "metadata": {
        "id": "MjoCiy2M0Rks"
      },
      "outputs": [],
      "source": [
        "# Scatter plot\n",
        "import plotly.express as px\n",
        "px.scatter(df, x='GROSS_SQUARE_FEET', y='SALE_PRICE')"
      ]
    },
    {
      "cell_type": "code",
      "execution_count": null,
      "metadata": {
        "id": "kMbL4dks0Rkt"
      },
      "outputs": [],
      "source": [
        "# With OLS (Ordinary Least Squares) trendline,\n",
        "# The outliers influence the \"line of best fit\"\n",
        "px.scatter(df, x='GROSS_SQUARE_FEET', y='SALE_PRICE', trendline='ols')"
      ]
    },
    {
      "cell_type": "code",
      "execution_count": null,
      "metadata": {
        "id": "T3DAxShX0Rkt"
      },
      "outputs": [],
      "source": [
        "# Look at sales for more than $35 million\n",
        "\n",
        "# All are at 70 Vestry Street\n",
        "# All but one have the same SALE_PRICE & SALE_DATE\n",
        "# Was the SALE_PRICE for each? Or in total?\n",
        "# Is this dirty data?\n",
        "\n",
        "df.query('SALE_PRICE > 35000000')"
      ]
    },
    {
      "cell_type": "code",
      "execution_count": null,
      "metadata": {
        "id": "LBBBvqR90Rkt"
      },
      "outputs": [],
      "source": [
        "# Make a judgment call:\n",
        "# Keep rows where sale price was < $35 million\n",
        "df = df.query('SALE_PRICE < 35000000')\n",
        "\n",
        "# Down to 90 rows\n",
        "df.shape"
      ]
    },
    {
      "cell_type": "code",
      "execution_count": null,
      "metadata": {
        "id": "tswQ16SY0Rkt"
      },
      "outputs": [],
      "source": [
        "columns = ['NEIGHBORHOOD',\n",
        "           'BUILDING_CLASS_CATEGORY',\n",
        "           'ADDRESS',\n",
        "           'APARTMENT_NUMBER',\n",
        "           'ZIP_CODE',\n",
        "           'GROSS_SQUARE_FEET',\n",
        "           'YEAR_BUILT',\n",
        "           'SALE_PRICE',\n",
        "           'SALE_DATE']\n",
        "\n",
        "df[columns].to_csv('../data/condos/tribeca.csv', index=False)"
      ]
    }
  ],
  "metadata": {
    "jupytext": {
      "cell_metadata_filter": "-all",
      "main_language": "python",
      "notebook_metadata_filter": "-all"
    },
    "kernelspec": {
      "display_name": "Python 3",
      "language": "python",
      "name": "python3"
    },
    "language_info": {
      "codemirror_mode": {
        "name": "ipython",
        "version": 3
      },
      "file_extension": ".py",
      "mimetype": "text/x-python",
      "name": "python",
      "nbconvert_exporter": "python",
      "pygments_lexer": "ipython3",
      "version": "3.7.3"
    },
    "colab": {
      "provenance": [],
      "include_colab_link": true
    }
  },
  "nbformat": 4,
  "nbformat_minor": 0
}